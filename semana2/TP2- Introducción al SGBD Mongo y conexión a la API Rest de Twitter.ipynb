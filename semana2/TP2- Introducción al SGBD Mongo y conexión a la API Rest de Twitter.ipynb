{
 "cells": [
  {
   "cell_type": "markdown",
   "metadata": {},
   "source": [
    "# TP2- Introducción al SGBD MongoDB y Conexión a la API Rest de Twitter"
   ]
  },
  {
   "cell_type": "markdown",
   "metadata": {},
   "source": [
    "En este trabajo práctico queremos descubrir las características del SGBD no relacional MongoDB. En este sentido, vamos a desarrollar un script que se conecta a la API Rest de Twitter para: 1) descargar datos al formato JSON, 2) almacenarlos en una base Mongo y 3) realizar algunas consultas sobre los datos."
   ]
  },
  {
   "cell_type": "markdown",
   "metadata": {},
   "source": [
    "## 1. Conectarse a la API Rest de Twitter"
   ]
  },
  {
   "cell_type": "markdown",
   "metadata": {},
   "source": [
    "- ¿Cómo crear una aplicación utilizando los datos de Twitter?: https://developer.twitter.com/en/docs/basics/getting-started\n",
    "- Crear una aplicación utilizando los datos de Twitter: https://apps.twitter.com/\n",
    "- ¿Qué deberían saber todos los desarrolladores antes de jugar con la API de twitter?: https://developer.twitter.com/en/docs/basics/things-every-developer-should-know"
   ]
  },
  {
   "cell_type": "code",
   "execution_count": null,
   "metadata": {},
   "outputs": [],
   "source": [
    "from twython import Twython\n",
    "\n",
    "APP_KEY = 'QfoB3muto09pQGE6tT9AABzA7'\n",
    "APP_SECRET = 'Wz7GNDSvxNGA9runV7t3yFD9o9gbJTHmW1YLXrZY8GULs2XwVT'\n",
    "\n",
    "twitter = Twython(APP_KEY,APP_SECRET)\n",
    "\n",
    "OAUTH_TOKEN = '946036790-6nP56I5c8IjRRyfj3iQ0TFLTnALGeJg6kxy5HJJg'\n",
    "OAUTH_TOKEN_SECRET = 'Wss8e19QLnAHVQRav0PO9apphM2asrBvEYAQA8u9rTNrE'\n",
    "\n",
    "twitter = Twython(APP_KEY, APP_SECRET,\n",
    "                  OAUTH_TOKEN, OAUTH_TOKEN_SECRET)"
   ]
  },
  {
   "cell_type": "markdown",
   "metadata": {},
   "source": [
    "## 2. Consultar la API de Twitter"
   ]
  },
  {
   "cell_type": "markdown",
   "metadata": {},
   "source": [
    "- Utilizando una librería Python que permite enviar consultas HTTP a la API de Twitter, conectarse a un 'endpoint' de la API para leer datos. Ver la lista de los endpoints: https://developer.twitter.com/en/docs/tweets/post-and-engage/overview"
   ]
  },
  {
   "cell_type": "code",
   "execution_count": null,
   "metadata": {},
   "outputs": [],
   "source": [
    "resultados =twitter.search(q='Uach', count =10)\n",
    "print(len(resultados['statuses']))\n",
    "datos = []\n",
    "for i in range(0,len(resultados[\"statuses\"])):\n",
    "    texto = resultados[\"statuses\"][i][\"text\"]\n",
    "    fecha = resultados[\"statuses\"][i][\"created_at\"]\n",
    "    usuario = resultados[\"statuses\"][i][\"user\"][\"name\"]\n",
    "    localizacion = resultados[\"statuses\"][i][\"user\"][\"location\"]\n",
    "    gyzom = {\n",
    "        \"texto\": texto,\n",
    "        \"fecha\": fecha,\n",
    "        \"usuario\": usuario,\n",
    "        \"localizacion\": localizacion\n",
    "        }\n",
    "    datos.append(gyzom)\n",
    "\n",
    "print(datos)\n",
    "\n"
   ]
  },
  {
   "cell_type": "markdown",
   "metadata": {},
   "source": [
    "## 3. Conectarse al SGBD Mongo"
   ]
  },
  {
   "cell_type": "markdown",
   "metadata": {},
   "source": [
    "- Conectarse a Mongo desde Python utilizando la librería adecuada"
   ]
  },
  {
   "cell_type": "code",
   "execution_count": null,
   "metadata": {},
   "outputs": [],
   "source": [
    "from pymongo import MongoClient\n",
    "cliente = MongoClient()\n",
    "\n",
    "db = cliente.twit\n",
    "colec = db.dataset"
   ]
  },
  {
   "cell_type": "markdown",
   "metadata": {},
   "source": [
    "## 4. Escribir datos de Twitter en una Base de Datos Mongo"
   ]
  },
  {
   "cell_type": "code",
   "execution_count": null,
   "metadata": {},
   "outputs": [],
   "source": [
    "posts = db.posts\n",
    "for i in range (0,len(datos)):\n",
    "   post_id =posts.insert_one(datos[i])"
   ]
  },
  {
   "cell_type": "code",
   "execution_count": null,
   "metadata": {},
   "outputs": [],
   "source": [
    "## Mostrar los documentos de su colección mostrando solamente el campo \"localizacion\". \n",
    "\n",
    "localizaciones =posts.find({},{'localizacion':1, '_id':0})\n",
    "for dato in localizaciones:\n",
    "    print(dato)"
   ]
  },
  {
   "cell_type": "code",
   "execution_count": null,
   "metadata": {},
   "outputs": [],
   "source": [
    "## Mostrar los tweets que contienen la palabra \"Uach\"¶"
   ]
  },
  {
   "cell_type": "code",
   "execution_count": null,
   "metadata": {},
   "outputs": [],
   "source": [
    "## Contar el número de tweet por username\n",
    "\n",
    "ntweet = posts.find({},{'nombre':1})\n",
    "for dato in ntweet:\n",
    "    print(dato)"
   ]
  },
  {
   "cell_type": "code",
   "execution_count": null,
   "metadata": {},
   "outputs": [],
   "source": []
  }
 ],
 "metadata": {
  "kernelspec": {
   "display_name": "Python 3",
   "language": "python",
   "name": "python3"
  },
  "language_info": {
   "codemirror_mode": {
    "name": "ipython",
    "version": 3
   },
   "file_extension": ".py",
   "mimetype": "text/x-python",
   "name": "python",
   "nbconvert_exporter": "python",
   "pygments_lexer": "ipython3",
   "version": "3.5.2"
  }
 },
 "nbformat": 4,
 "nbformat_minor": 2
}
