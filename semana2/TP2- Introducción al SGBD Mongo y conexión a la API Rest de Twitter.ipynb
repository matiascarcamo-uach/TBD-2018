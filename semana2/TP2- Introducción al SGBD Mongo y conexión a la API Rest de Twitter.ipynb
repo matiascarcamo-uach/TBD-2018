{
 "cells": [
  {
   "cell_type": "markdown",
   "metadata": {},
   "source": [
    "# TP2- Introducción al SGBD MongoDB y Conexión a la API Rest de Twitter"
   ]
  },
  {
   "cell_type": "markdown",
   "metadata": {},
   "source": [
    "En este trabajo práctico queremos descubrir las características del SGBD no relacional MongoDB. En este sentido, vamos a desarrollar un script que se conecta a la API Rest de Twitter para: 1) descargar datos al formato JSON, 2) almacenarlos en una base Mongo y 3) realizar algunas consultas sobre los datos."
   ]
  },
  {
   "cell_type": "markdown",
   "metadata": {},
   "source": [
    "## 1. Conectarse a la API Rest de Twitter"
   ]
  },
  {
   "cell_type": "markdown",
   "metadata": {},
   "source": [
    "- ¿Cómo crear una aplicación utilizando los datos de Twitter?: https://developer.twitter.com/en/docs/basics/getting-started\n",
    "- Crear una aplicación utilizando los datos de Twitter: https://apps.twitter.com/\n",
    "- ¿Qué deberían saber todos los desarrolladores antes de jugar con la API de twitter?: https://developer.twitter.com/en/docs/basics/things-every-developer-should-know"
   ]
  },
  {
   "cell_type": "code",
   "execution_count": 1,
   "metadata": {},
   "outputs": [],
   "source": [
    "from twython import Twython\n",
    "\n",
    "APP_KEY = 'QfoB3muto09pQGE6tT9AABzA7'\n",
    "APP_SECRET = 'Wz7GNDSvxNGA9runV7t3yFD9o9gbJTHmW1YLXrZY8GULs2XwVT'\n",
    "\n",
    "twitter = Twython(APP_KEY,APP_SECRET)\n",
    "\n",
    "OAUTH_TOKEN = '946036790-6nP56I5c8IjRRyfj3iQ0TFLTnALGeJg6kxy5HJJg'\n",
    "OAUTH_TOKEN_SECRET = 'Wss8e19QLnAHVQRav0PO9apphM2asrBvEYAQA8u9rTNrE'\n",
    "\n",
    "twitter = Twython(APP_KEY, APP_SECRET,\n",
    "                  OAUTH_TOKEN, OAUTH_TOKEN_SECRET)"
   ]
  },
  {
   "cell_type": "markdown",
   "metadata": {},
   "source": [
    "## 2. Consultar la API de Twitter"
   ]
  },
  {
   "cell_type": "markdown",
   "metadata": {},
   "source": [
    "- Utilizando una librería Python que permite enviar consultas HTTP a la API de Twitter, conectarse a un 'endpoint' de la API para leer datos. Ver la lista de los endpoints: https://developer.twitter.com/en/docs/tweets/post-and-engage/overview"
   ]
  },
  {
   "cell_type": "code",
   "execution_count": 2,
   "metadata": {},
   "outputs": [
    {
     "name": "stdout",
     "output_type": "stream",
     "text": [
      "{'texto': 'Solicitaron continuar la investigación por relleno de humedal en Valdivia https://t.co/zs9uv52qoW', 'fecha': 'Mon Apr 09 02:21:57 +0000 2018'}\n"
     ]
    }
   ],
   "source": [
    "result =twitter.search(q='Valdivia', count=1)\n",
    "text = result[\"statuses\"][0][\"text\"]\n",
    "date = result[\"statuses\"][0][\"created_at\"]\n",
    "array = {\n",
    "    \"texto\": text,\n",
    "    \"fecha\": date\n",
    "    }\n",
    "print(array)\n",
    "\n"
   ]
  },
  {
   "cell_type": "markdown",
   "metadata": {},
   "source": [
    "## 3. Conectarse al SGBD Mongo"
   ]
  },
  {
   "cell_type": "markdown",
   "metadata": {},
   "source": [
    "- Conectarse a Mongo desde Python utilizando la librería adecuada"
   ]
  },
  {
   "cell_type": "code",
   "execution_count": 3,
   "metadata": {},
   "outputs": [],
   "source": [
    "from pymongo import MongoClient\n",
    "cliente = MongoClient()\n",
    "\n",
    "db = cliente.twit\n",
    "colec = db.dataset"
   ]
  },
  {
   "cell_type": "markdown",
   "metadata": {},
   "source": [
    "## 4. Escribir datos de Twitter en una Base de Datos Mongo"
   ]
  },
  {
   "cell_type": "code",
   "execution_count": 4,
   "metadata": {},
   "outputs": [
    {
     "name": "stdout",
     "output_type": "stream",
     "text": [
      "{'_id': ObjectId('5acacd2b090c3615532c58ab'),\n",
      " 'fecha': 'Mon Apr 09 01:59:57 +0000 2018',\n",
      " 'texto': 'RT @farellano: Valdivia y el mensaje de Barroso: “No sé qué quiso '\n",
      "          'decir. En estos momentos es donde menos se necesita ese tipo de '\n",
      "          'mensajes.…'}\n"
     ]
    }
   ],
   "source": [
    "posts = db.posts\n",
    "post_id = posts.insert_one(array)\n",
    "\n",
    "import pprint\n",
    "pprint.pprint(posts.find_one())"
   ]
  },
  {
   "cell_type": "code",
   "execution_count": null,
   "metadata": {},
   "outputs": [],
   "source": []
  }
 ],
 "metadata": {
  "kernelspec": {
   "display_name": "Python 3",
   "language": "python",
   "name": "python3"
  },
  "language_info": {
   "codemirror_mode": {
    "name": "ipython",
    "version": 3
   },
   "file_extension": ".py",
   "mimetype": "text/x-python",
   "name": "python",
   "nbconvert_exporter": "python",
   "pygments_lexer": "ipython3",
   "version": "3.5.2"
  }
 },
 "nbformat": 4,
 "nbformat_minor": 2
}
