{
 "cells": [
  {
   "cell_type": "markdown",
   "metadata": {},
   "source": [
    "# TP2- Introducción al SGBD MongoDB y Conexión a la API Rest de Twitter"
   ]
  },
  {
   "cell_type": "markdown",
   "metadata": {},
   "source": [
    "En este trabajo práctico queremos descubrir las características del SGBD no relacional MongoDB. En este sentido, vamos a desarrollar un script que se conecta a la API Rest de Twitter para: 1) descargar datos al formato JSON, 2) almacenarlos en una base Mongo y 3) realizar algunas consultas sobre los datos."
   ]
  },
  {
   "cell_type": "markdown",
   "metadata": {},
   "source": [
    "## 1. Conectarse a la API Rest de Twitter"
   ]
  },
  {
   "cell_type": "markdown",
   "metadata": {},
   "source": [
    "- ¿Cómo crear una aplicación utilizando los datos de Twitter?: https://developer.twitter.com/en/docs/basics/getting-started\n",
    "- Crear una aplicación utilizando los datos de Twitter: https://apps.twitter.com/\n",
    "- ¿Qué deberían saber todos los desarrolladores antes de jugar con la API de twitter?: https://developer.twitter.com/en/docs/basics/things-every-developer-should-know"
   ]
  },
  {
   "cell_type": "code",
   "execution_count": 1,
   "metadata": {},
   "outputs": [],
   "source": [
    "from twython import Twython\n",
    "\n",
    "APP_KEY = 'QfoB3muto09pQGE6tT9AABzA7'\n",
    "APP_SECRET = 'Wz7GNDSvxNGA9runV7t3yFD9o9gbJTHmW1YLXrZY8GULs2XwVT'\n",
    "\n",
    "twitter = Twython(APP_KEY,APP_SECRET)\n",
    "\n",
    "OAUTH_TOKEN = '946036790-6nP56I5c8IjRRyfj3iQ0TFLTnALGeJg6kxy5HJJg'\n",
    "OAUTH_TOKEN_SECRET = 'Wss8e19QLnAHVQRav0PO9apphM2asrBvEYAQA8u9rTNrE'\n",
    "\n",
    "twitter = Twython(APP_KEY, APP_SECRET,\n",
    "                  OAUTH_TOKEN, OAUTH_TOKEN_SECRET)"
   ]
  },
  {
   "cell_type": "markdown",
   "metadata": {},
   "source": [
    "## 2. Consultar la API de Twitter"
   ]
  },
  {
   "cell_type": "markdown",
   "metadata": {},
   "source": [
    "- Utilizando una librería Python que permite enviar consultas HTTP a la API de Twitter, conectarse a un 'endpoint' de la API para leer datos. Ver la lista de los endpoints: https://developer.twitter.com/en/docs/tweets/post-and-engage/overview"
   ]
  },
  {
   "cell_type": "code",
   "execution_count": 5,
   "metadata": {},
   "outputs": [
    {
     "name": "stdout",
     "output_type": "stream",
     "text": [
      "10\n",
      "[{'localizacion': '', 'texto': 'RT @sesuscraiz: #SábadoDeTianguis #TOC #TianguisOrgánico #Chapingo @uach_chapingo #Texcoco #Edomex #ConsumeLocal #HechoEnMéxico #HechoConAm…', 'usuario': 'Griselda  Ortiz P.', 'fecha': 'Sun Apr 22 16:37:45 +0000 2018'}, {'localizacion': 'Longchamps', 'texto': 'Como te banco uach https://t.co/QImHM74hnU', 'usuario': 'Brian Elias', 'fecha': 'Sun Apr 22 16:22:21 +0000 2018'}, {'localizacion': '', 'texto': 'Estimados exalumnos de bioquímica y de la UACH, ud. Lo vio, ud. Lo sintió, ud lo sabe apoye está carta, firmandola,… https://t.co/QI1nWMivxX', 'usuario': 'Adriana Bastias Barr', 'fecha': 'Sun Apr 22 16:13:56 +0000 2018'}, {'localizacion': '', 'texto': 'El daño ecológico es lo más grave, olvida el dinero perdido!!! https://t.co/s0wy5Ld9d9', 'usuario': 'Alvaro Albarrán', 'fecha': 'Sun Apr 22 16:10:43 +0000 2018'}, {'localizacion': 'Santiago, Chile', 'texto': 'RT @valdivialahsen: Declaración del ICML de @UAustraldeChile sobre caso de acoso sexual en @Ciencias_UACh @RedInvestChile @elmostrador http…', 'usuario': 'Rocio Jaña', 'fecha': 'Sun Apr 22 16:06:23 +0000 2018'}, {'localizacion': 'Chile', 'texto': '@cienciasuach @prerrectoriauach @UAustraldeChile https://t.co/68c9wlsr1Z', 'usuario': 'RedDeInvestigadoras', 'fecha': 'Sun Apr 22 16:01:31 +0000 2018'}, {'localizacion': 'solo city', 'texto': 'Tapi knpa abs SC dokter gk blg ya efek dr anestesinya.humm klo batuk sih emg gk bkh,klo ketawa itu yg sulit ditahan… https://t.co/mLsPyCja9o', 'usuario': \"Uach Vu'ah\", 'fecha': 'Sun Apr 22 15:59:21 +0000 2018'}, {'localizacion': 'Santiago-Concepción, Chile', 'texto': 'Algunas Imagenes de nuestro paso en la Sede Isla Teja de la Universidad Austral de Chile \\n\\nFelicitamos a la organiz… https://t.co/mxhlZgzdRO', 'usuario': 'SINAMED', 'fecha': 'Sun Apr 22 15:32:43 +0000 2018'}, {'localizacion': 'Osorno, Chile', 'texto': 'Docentes de la UACh exigen desvinculación de docente que acosó a funcionaria https://t.co/YHnNLNkk0y vía @biobio', 'usuario': 'Juan Paulo Angulo R', 'fecha': 'Sun Apr 22 15:09:25 +0000 2018'}, {'localizacion': 'Santiago de Chile', 'texto': '@Carla_Amtmann @danieljadue @munivaldivia Otro ejemplo es lo que está pasando en la UACH, dónde se opera en la lógi… https://t.co/1PrkiGjcZ0', 'usuario': 'David G. Miranda', 'fecha': 'Sun Apr 22 15:07:13 +0000 2018'}]\n"
     ]
    }
   ],
   "source": [
    "resultados =twitter.search(q='Uach', count =10)\n",
    "print(len(resultados['statuses']))\n",
    "datos = []\n",
    "for i in range(0,len(resultados[\"statuses\"])):\n",
    "    texto = resultados[\"statuses\"][i][\"text\"]\n",
    "    fecha = resultados[\"statuses\"][i][\"created_at\"]\n",
    "    usuario = resultados[\"statuses\"][i][\"user\"][\"name\"]\n",
    "    localizacion = resultados[\"statuses\"][i][\"user\"][\"location\"]\n",
    "    gyzom = {\n",
    "        \"texto\": texto,\n",
    "        \"fecha\": fecha,\n",
    "        \"usuario\": usuario,\n",
    "        \"localizacion\": localizacion\n",
    "        }\n",
    "    datos.append(gyzom)\n",
    "\n",
    "print(datos)\n",
    "\n"
   ]
  },
  {
   "cell_type": "markdown",
   "metadata": {},
   "source": [
    "## 3. Conectarse al SGBD Mongo"
   ]
  },
  {
   "cell_type": "markdown",
   "metadata": {},
   "source": [
    "- Conectarse a Mongo desde Python utilizando la librería adecuada"
   ]
  },
  {
   "cell_type": "code",
   "execution_count": 8,
   "metadata": {},
   "outputs": [],
   "source": [
    "from pymongo import MongoClient\n",
    "cliente = MongoClient()\n",
    "\n",
    "db = cliente.twit\n",
    "colec = db.dataset"
   ]
  },
  {
   "cell_type": "markdown",
   "metadata": {},
   "source": [
    "## 4. Escribir datos de Twitter en una Base de Datos Mongo"
   ]
  },
  {
   "cell_type": "code",
   "execution_count": 9,
   "metadata": {},
   "outputs": [],
   "source": [
    "posts = db.posts\n",
    "for i in range (0,len(datos)):\n",
    "   post_id =posts.insert_one(datos[i])"
   ]
  },
  {
   "cell_type": "code",
   "execution_count": 10,
   "metadata": {},
   "outputs": [
    {
     "name": "stdout",
     "output_type": "stream",
     "text": [
      "{}\n",
      "{}\n",
      "{'localizacion': ''}\n",
      "{'localizacion': 'Longchamps'}\n",
      "{'localizacion': ''}\n",
      "{'localizacion': ''}\n",
      "{'localizacion': 'Santiago, Chile'}\n",
      "{'localizacion': 'Chile'}\n",
      "{'localizacion': 'solo city'}\n",
      "{'localizacion': 'Santiago-Concepción, Chile'}\n",
      "{'localizacion': 'Osorno, Chile'}\n",
      "{'localizacion': 'Santiago de Chile'}\n"
     ]
    }
   ],
   "source": [
    "## Mostrar los documentos de su colección mostrando solamente el campo \"localizacion\". \n",
    "\n",
    "localizaciones =posts.find({},{'localizacion':1, '_id':0})\n",
    "for dato in localizaciones:\n",
    "    print(dato)"
   ]
  },
  {
   "cell_type": "code",
   "execution_count": null,
   "metadata": {},
   "outputs": [],
   "source": [
    "## Mostrar los tweets que contienen la palabra \"Uach\"¶"
   ]
  },
  {
   "cell_type": "code",
   "execution_count": 11,
   "metadata": {},
   "outputs": [
    {
     "name": "stdout",
     "output_type": "stream",
     "text": [
      "{'_id': ObjectId('5acacd2b090c3615532c58ab')}\n",
      "{'_id': ObjectId('5acace66090c3616e01fbb9e')}\n",
      "{'_id': ObjectId('5adcbadc090c361f527d9352')}\n",
      "{'_id': ObjectId('5adcbbdb090c361f527d9354')}\n",
      "{'_id': ObjectId('5adcbbdb090c361f527d9355')}\n",
      "{'_id': ObjectId('5adcbbdb090c361f527d9356')}\n",
      "{'_id': ObjectId('5adcbbdb090c361f527d9357')}\n",
      "{'_id': ObjectId('5adcbbdb090c361f527d9358')}\n",
      "{'_id': ObjectId('5adcbbdb090c361f527d9359')}\n",
      "{'_id': ObjectId('5adcbbdb090c361f527d935a')}\n",
      "{'_id': ObjectId('5adcbbdb090c361f527d935b')}\n",
      "{'_id': ObjectId('5adcbbdb090c361f527d935c')}\n"
     ]
    }
   ],
   "source": [
    "## Contar el número de tweet por username\n",
    "\n",
    "ntweet = posts.find({},{'nombre':1})\n",
    "for dato in ntweet:\n",
    "    print(dato)"
   ]
  },
  {
   "cell_type": "code",
   "execution_count": null,
   "metadata": {},
   "outputs": [],
   "source": []
  }
 ],
 "metadata": {
  "kernelspec": {
   "display_name": "Python 3",
   "language": "python",
   "name": "python3"
  },
  "language_info": {
   "codemirror_mode": {
    "name": "ipython",
    "version": 3
   },
   "file_extension": ".py",
   "mimetype": "text/x-python",
   "name": "python",
   "nbconvert_exporter": "python",
   "pygments_lexer": "ipython3",
   "version": "3.5.2"
  }
 },
 "nbformat": 4,
 "nbformat_minor": 2
}
