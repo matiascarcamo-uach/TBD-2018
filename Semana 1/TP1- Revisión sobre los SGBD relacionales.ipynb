{
 "cells": [
  {
   "cell_type": "markdown",
   "metadata": {},
   "source": [
    "# TP1- Revision sobre los SGBD relacionales"
   ]
  },
  {
   "cell_type": "markdown",
   "metadata": {},
   "source": [
    "Para revisar algunos conceptos de los SGBD relacionales (en particular el modelo relacional y el lenguaje SQL), vamos a crear una pequeña Base de Datos relacional desde un programa en Python y a partir de datos que se encuentran en varios archivos textos.\n",
    "\n",
    "La base de datos que queremos construir está representada por el modelo Entidad-Asociación siguiente:"
   ]
  },
  {
   "cell_type": "markdown",
   "metadata": {},
   "source": [
    "<img src=\"modeloEA-1.png\">"
   ]
  },
  {
   "cell_type": "markdown",
   "metadata": {},
   "source": [
    "## 1. Transformación del Modelo Entidad-Asociación hacia Modelo Relacional\n",
    "\n",
    "Proponer un modelo relacional que corresponde al modelo Entidad-Asociación."
   ]
  },
  {
   "cell_type": "markdown",
   "metadata": {},
   "source": [
    "medios_de_prensas(pk_nombre, duenho, num_followers)\n",
    "\n",
    "noticias(id, titulo, text, #pk_nombre, date)"
   ]
  },
  {
   "cell_type": "markdown",
   "metadata": {},
   "source": [
    "## 2. Crear la estructura de la base de datos desde un programa Python"
   ]
  },
  {
   "cell_type": "markdown",
   "metadata": {},
   "source": [
    "### 2.1 Conectarse a MySQL desde Python"
   ]
  },
  {
   "cell_type": "code",
   "execution_count": 1,
   "metadata": {
    "scrolled": true
   },
   "outputs": [
    {
     "name": "stdout",
     "output_type": "stream",
     "text": [
      "conectado\n"
     ]
    }
   ],
   "source": [
    "#!/usr/bin/env python\n",
    "# -*- coding: utf-8 -*-\n",
    "from __future__ import print_function\n",
    "import mysql.connector\n",
    "from mysql.connector import errorcode\n",
    "\n",
    "conexion = mysql.connector.connect(user='root', password='root',host='localhost')\n",
    "if(conexion):\n",
    "    print(\"conectado\")\n",
    "else:\n",
    "    print(\"No conectado\")\n",
    "cursor = conexion.cursor()"
   ]
  },
  {
   "cell_type": "markdown",
   "metadata": {},
   "source": [
    "### 2.2 Crear las tablas"
   ]
  },
  {
   "cell_type": "code",
   "execution_count": 4,
   "metadata": {},
   "outputs": [
    {
     "name": "stdout",
     "output_type": "stream",
     "text": [
      "Las tablas ya han sido creadas\n"
     ]
    }
   ],
   "source": [
    "DATABASE = {}\n",
    "DB_NAME = \"TB1_medios\"\n",
    "DATABASE['medios_de_prensas'] = (\n",
    "    \"CREATE TABLE `medios_de_prensas` (\"\n",
    "    \"  `name` VARCHAR(255) NOT NULL,\"\n",
    "    \"  `duenho` VARCHAR(255)  NOT NULL,\"\n",
    "    \"  `num_followers` INT NOT NULL,\"\n",
    "    \"  PRIMARY KEY (`name`)\"\n",
    "    \") ENGINE=InnoDB\")\n",
    "DATABASE['noticia'] = (\n",
    "    \"CREATE TABLE `noticia` (\"\n",
    "    \"  `id` INT NOT NULL AUTO_INCREMENt,\"\n",
    "    \"  `titulo` VARCHAR(255) NOT NULL,\"\n",
    "    \"  `text` TEXT NOT NULL,\"\n",
    "    \"  `ref_prensa` VARCHAR(255) NOT NULL,\"\n",
    "    \"  `date` VARCHAR(255) NOT NULL,\"\n",
    "    \"   PRIMARY KEY (`id`)\"\n",
    "    \") ENGINE=InnoDB\")\n",
    "\n",
    "def create_database(cursor):\n",
    "    try:\n",
    "        cursor.execute(\n",
    "            \"CREATE DATABASE {} DEFAULT CHARACTER SET 'utf8'\".format(DB_NAME))\n",
    "    except mysql.connector.Error as err:\n",
    "        print(\"No se pudo conectar la base de datos: {}\".format(err))\n",
    "        exit(1)\n",
    "\n",
    "try:\n",
    "    conexion.database = DB_NAME  \n",
    "except mysql.connector.Error as err:\n",
    "    if err.errno == errorcode.ER_BAD_DB_ERROR:\n",
    "        create_database(cursor)\n",
    "        conexion.database = DB_NAME\n",
    "    else:\n",
    "        print(err)\n",
    "\n",
    "try:\n",
    "    cursor.execute(DATABASE['medios_de_prensas'])\n",
    "    cursor.execute(DATABASE['noticia'])\n",
    "except mysql.connector.Error as err:\n",
    "    if err.errno == errorcode.ER_TABLE_EXISTS_ERROR:\n",
    "        print(\"Las tablas ya han sido creadas\")\n",
    "    else:\n",
    "        print(err.msg)\n",
    "else:\n",
    "    print(\"Tablas creadas con exito\")       \n"
   ]
  },
  {
   "cell_type": "markdown",
   "metadata": {},
   "source": [
    "# 3. Insertar los datos en la base de datos"
   ]
  },
  {
   "cell_type": "markdown",
   "metadata": {},
   "source": [
    "## 3.1 Leer los archivos textos"
   ]
  },
  {
   "cell_type": "code",
   "execution_count": 5,
   "metadata": {},
   "outputs": [
    {
     "name": "stdout",
     "output_type": "stream",
     "text": [
      "24HorasTVN  \t  Estado Chileno  \t  3286603\n",
      "TVN  \t  Estado Chileno  \t  2910624\n",
      "T13  \t  Grupo Canal 13  \t  2869408\n",
      "CNNChile  \t  Time Warner  \t  2814705\n",
      "biobio  \t  BIO-BIO comunicaciones  \t  2756031\n",
      "Cooperativa  \t  Compañía Chilena de Comunicaciones  \t  2638045\n",
      "canal13  \t  Grupo Luksic  \t  2089537\n",
      "latercera  \t  Grupo Copesa  \t  1849215\n",
      "Emol  \t  El Mercurio S.A.P.  \t  1805524\n",
      "adnradiochile  \t  Ibero Americana Radio Chile  \t  1660965\n",
      "thecliniccl  \t  Ediciones y Publicaciones Bobby S.A.   \t  1637257\n",
      "elmostrador  \t  La Plaza S.A.  \t  1533717\n",
      "chilevision   \t  Time Warner  \t  1264464\n",
      "terraChile  \t  Terra Networks Chile S.A.  \t  1190512\n",
      "Mega  \t  Bethia  \t  1016622\n",
      "ahoranoticiasAN  \t  Bethia  \t  1012851\n",
      "ciper  \t  Fundacion CIPER- Grupo Copesa  \t  902201\n",
      "PublimetroChile  \t  Metro International  \t  876749\n",
      "lacuarta  \t  Grupo Copesa  \t  763174\n",
      "deportes13cl  \t  Grupo Luksic  \t  610516\n",
      "La_Segunda  \t  El Mercurio S.A.P.  \t  563406\n",
      "LaRedTV  \t  Albavisión (MX)  \t  531088\n",
      "el_dinamo  \t  Ediciones Giro País SpA  \t  418425\n",
      "chvdeportes  \t  Time Warner  \t  351803\n",
      "nacioncl  \t  Empresa Periodistica La Nación S.A.  \t  318346\n",
      "revistaQP  \t  Grupo Copesa  \t  298495\n",
      "DiarioLaHora  \t  Grupo Copesa  \t  296059\n",
      "El_Ciudadano  \t  Sociedad Periodística El Ciudadano  \t  277703\n",
      "CadenaChile  \t  Vocación-Comunitaria  \t  277201\n",
      "ElGraficoChile  \t  Metro International  \t  268826\n",
      "difamadores  \t  Eduardo Mardones  \t  248538\n",
      "biobiodeportes  \t  Grupo Mochiatti  \t  235075\n",
      "Emol_Deportes  \t  El Mercurio S.A.P.  \t  220974\n",
      "LaSerenaOnline  \t  La Serena Online  \t  212759\n",
      "soychilecl  \t  El Mercurio S.A.P.  \t  208424\n",
      "Dfinanciero  \t  Grupo Claro  \t  133828\n",
      "elquintopoder  \t  Fundacion Democracia y Desarrollo  \t  130323\n",
      "mercuriovalpo  \t  El Mercurio S.A.P  \t  129761\n",
      "tvn_deportes  \t  Estado Chileno  \t  128555\n",
      "GlamoramaCL  \t  Grupo Copesa  \t  121128\n",
      "eldia_cl  \t  Diario ELDIA  \t  106078\n",
      "ElPeriscopioCL  \t  Trayectos Agencia de Comunicaciones Ltda  \t  105532\n",
      "elobservatodo  \t  Grupo Mi Voz Red de Diarios Ciudadanos  \t  99838\n",
      "laterceracom  \t  Grupo Copesa  \t  96775\n",
      "elsurcl   \t  Diario El Sur S.A  \t  95662\n",
      "uchileradio  \t  Universidad de Chile  \t  94999\n",
      "soyconcepcion  \t  El Mercurio S.A.P  \t  94205\n",
      "RadioPudahuel  \t  Ibero Americana Radio Chile  \t  88523\n",
      "biobiotv  \t  Grupo Mosciatti  \t  88475\n",
      "soyvalparaiso  \t  El Mercurio S.A.P  \t  84203\n",
      "AustralTemuco  \t  El Mercurio S.A.P  \t  83479\n",
      "hoyxhoycl  \t  El Mercurio S.A.P.  \t  83193\n",
      "RadioDuna  \t  Grupo Copesa  \t  82363\n",
      "radiozero977  \t  Grupo Copesa  \t  80399\n",
      "revistacapital  \t  Grupo Claro  \t  80101\n",
      "rvfradiopopular  \t  Centro Cultural de Comunicación y Educación Radiofónica ''Chasqui''  \t  79900\n",
      "chv_noticias  \t  Time Warner  \t  77309\n",
      "eldesconcierto  \t  Ediciones y Publicaciones El Buen Aire S.A.  \t  74403\n",
      "estadonacional   \t  Estado Chileno  \t  68410\n",
      "EmolTV  \t  El Mercurio S.A.P.  \t  67772\n",
      "RADIOPALOMAFM  \t  Núcleo de emisoras Paloma  \t  67531\n",
      "RedMiVoz  \t  Grupo Mi Voz Red de Diarios Ciudadanos  \t  67071\n",
      "AgriculturaFM  \t  Sociedad Nacional de Agricultura  \t  65861\n",
      "pulso_tw  \t  Grupo Copesa  \t  64516\n",
      "Estrategiacl  \t  Editorial Gestion  \t  61664\n",
      "laestrellavalpo  \t  El Mercurio S.A.P  \t  61280\n",
      "TVChileTVN  \t  Estado Chileno  \t  55816\n",
      "FMConquistador  \t  Comunicaciones C Y V S A   \t  55301\n",
      "prensaopal   \t  opal press  \t  53500\n",
      "RevistaCosas  \t  Editorial Tiempo Presente Ltda.  \t  52971\n",
      "elliberocl  \t  Sociedad Periodistica El Libero S.A.  \t  50472\n",
      "Ferplei  \t  Betazeta Networks S.A.  \t  49410\n",
      "EYN_ELMERCURIO  \t  El Mercurio S.A.P.  \t  45979\n",
      "araucanianews  \t  Araucanía Noticias  \t  45341\n",
      "Araucaniatv  \t  AraucaníaTV  \t  45230\n",
      "RedMaule  \t  Merelec SpA   \t  44830\n",
      "radiolaclave  \t  Miguel Nasur  \t  42733\n",
      "MauleNoticias  \t  N.E  \t  41294\n",
      "ElPeriodista  \t  El Periodista S.A  \t  40308\n",
      "RedBiobio  \t  Merelec SpA   \t  38855\n",
      "diarioelcentro  \t  Empresa Periodística El Centro S.A.  \t  38676\n",
      "ASChile   \t  Grupo Prisa España  \t  37956\n",
      "ucv_tv  \t  Pontificia Universidad Católica de Valparaiso  \t  36488\n",
      "MQLTV  \t  Producciones y Asesorías Gou Infotaiment Limitada  \t  35153\n",
      "maulee  \t  Red de medios de comunicación digital Portales Regionales  \t  34703\n",
      "ladiscusioncl  \t  La Discusión SA  \t  34062\n",
      "RadioNuble  \t  Sociedad de Inversiones Vaccaro Collao e Hijos Ltda.  \t  33040\n",
      "mercurioafta  \t  El Mercurio S.A.P  \t  32817\n",
      "vlanoticia  \t  Vivimos la noticia  \t  32516\n",
      "elrancaguino  \t  Inversiones y Publicaciones Comunidades Ciudadanas S. A.  \t  32375\n",
      "Diarioconce  \t  UdeC - Grupo Copesa  \t  31910\n",
      "soyarica  \t  El Mercurio S.A.P  \t  31905\n",
      "ellanquihue  \t  El Mercurio S.A.P.   \t  31138\n",
      "elmartutino  \t  Grupo Mi Voz Red de Diarios Ciudadanos  \t  30291\n",
      "CronicaChillan  \t  Diario El Sur S.A.  \t  29925\n",
      "laestrellaiqq  \t  El Mercurio S.A.P.  \t  28825\n",
      "pinguinodiario  \t  Patagonica Publicaciones S.A.  \t  27526\n",
      "radiosantamaria  \t  Red de Emisoras Madripo  \t  26697\n",
      "cronicacurico  \t  Sociedad periodistica Crónica noticias SPA  \t  26394\n",
      "elnortero  \t  Grupo Mi Voz Red de Diarios Ciudadanos  \t  26079\n",
      "AconcaguaNews  \t  Aconcagua News  \t  25939\n",
      "soyantofagasta   \t  El Mercurio S.A.P  \t  25765\n",
      "soytemuco  \t  El Mercurio S.A.P.  \t  25460\n",
      "Mapuexpress  \t  Colectivo de Comunicacion Mapuche Mapuexpress  \t  25253\n",
      "eltipografo  \t  El Tipógrafo SPA  \t  25159\n",
      "eo_enlinea  \t  Empresa Periodística El Observador Ltda  \t  25099\n",
      "austral_osorno  \t  El Mercurio S.A.P  \t  24627\n",
      "Azkintuwe  \t  Pedro Cayuqueo, Enama  \t  24625\n",
      "TVNRedMaule  \t  Estado Chileno  \t  24405\n",
      "estrellaconce  \t  El Mercurio S.A.P.  \t  24097\n",
      "eldefinido  \t  El Definido  \t  23590\n",
      "msncl  \t  Microsoft Corporation.   \t  23353\n",
      "TVU_television   \t  Holding Octava Comunicaciones S.A.  \t  22604\n",
      "tvmaulinos  \t  Tv maulinos  \t  21995\n",
      "Red_OHiggins  \t  Merelec SpA   \t  21526\n",
      "LaTerceraTV  \t  Grupo Copesa  \t  21373\n",
      "diarioafta  \t  Consorcio Periodístico El Norte SpA  \t  20984\n",
      "RadioSago  \t  Sociedad Agrícola y Ganadera de Osorno  \t  20928\n",
      "soyiquique  \t  El Mercurio S.A.P  \t  20612\n",
      "ChillanOnline  \t  Chillan Noticias  \t  20581\n",
      "Diario_Pyme  \t  Metro International  \t  20569\n",
      "radiochiloe  \t  Velásquez Hnos. y Cía. Ltda.  \t  20435\n",
      "chiloealdia  \t  Chiloe Al día  \t  20398\n",
      "chillanactivo  \t  Chillan Activo  \t  20158\n",
      "Clave9cl  \t  Clave9  \t  20120\n",
      "emol_magazine  \t  El Mercurio S.A.P.  \t  19538\n",
      "laotravoz  \t  Empresa Periodística La Nación S.A.  \t  19422\n",
      "RadioPolar  \t  Organización Comercial Radio Polar Ltda.  \t  19411\n",
      "austral_losrios  \t  El Mercurio S.A.P  \t  19382\n",
      "elrancahuaso  \t  Grupo Mi Voz Red de Diarios Ciudadanos  \t  19298\n",
      "ElSembrador1047  \t  Obispado de Chillan  \t  18480\n",
      "Elperiodicocl  \t  El Periodico  \t  18422\n",
      "Osornonews  \t  N.E  \t  18272\n",
      "tentos  \t  Elyon Comunicaciones  \t  18250\n",
      "LaPrensAustral  \t  Empresa de Publicaciones La Prensa Austral S.A.  \t  18098\n",
      "cambio21cl  \t  Sociedad Periodística Cambio S.A.  \t  17593\n",
      "radiocondell  \t  Benjamín González  \t  17486\n",
      "estrellachiloe  \t  El Mercurio S.A.P.  \t  17152\n",
      "soypuertomontt  \t  El Mercurio S.A.P  \t  17076\n",
      "elmorrocotudo  \t  Grupo Mi Voz Red de Diarios Ciudadanos  \t  17008\n",
      "LaProvinciaCL  \t  N.E  \t  16572\n",
      "soyosorno  \t  El Mercurio S.A.P  \t  16490\n",
      "NUBLEONLINE_  \t  N.E.  \t  16478\n",
      "EnLineaMaule  \t  En linea maule  \t  16320\n",
      "red_coquimbo  \t  Merelec SpA   \t  16225\n",
      "sitiocero  \t  Comunidad Sitio Cero  \t  16096\n",
      "rioenlinea  \t  Rioenlinea  \t  16029\n",
      "RNuevoMundo  \t  Compañía de Radio y TV Nuevo Mundo S.A  \t  15860\n",
      "RedValparaiso  \t  Merelec SpA   \t  15649\n",
      "elepicentro  \t  Consorcio Periodístico El Epicentro S.A  \t  15595\n",
      "RedAraucania  \t  Merelec SpA   \t  15559\n",
      "diarioatacama  \t  El Mercurio S.A.P  \t  15432\n",
      "RedAntofagasta  \t  Merelec SpA   \t  15165\n",
      "ElBoyaldia  \t  Grupo Mi Voz Red de Diarios Ciudadanos  \t  14868\n",
      "elrepuertero  \t  Grupo Mi Voz Red de Diarios Ciudadanos  \t  14749\n",
      "RadioEstacion1  \t  Estación 1  \t  14717\n",
      "soychiloe  \t  El Mercurio S.A.P  \t  14693\n",
      "estrella_antofa  \t  El Mercurio S.A.P.  \t  14297\n",
      "palabranoticia  \t  Ibero Americana Radio Chile  \t  14230\n",
      "elsoldeiquique  \t  El sol de Iquique  \t  14104\n",
      "soyvaldiviacl  \t  El Mercurio S.A.P.  \t  13903\n",
      "el_vacanudo  \t  Grupo Mi Voz Red de Diarios Ciudadanos  \t  13862\n",
      "soychillan  \t  El Mercurio S.A.P  \t  13667\n",
      "elconcecuente  \t  Grupo Mi Voz Red de Diarios Ciudadanos  \t  13639\n",
      "IquiqueRadioCL  \t  Iquique Radio  \t  13533\n",
      "laprensacurico  \t  Empresa Periodística Curicó Ltda.  \t  13507\n",
      "elnaveghable  \t  Grupo Mi Voz Red de Diarios Ciudadanos  \t  12863\n",
      "talcanoticias  \t  N.E  \t  12756\n",
      "chanarcillo  \t  Chañarcillo  \t  12145\n",
      "elovallino   \t  Merelec SpA   \t  12085\n",
      "PrensaChiloe  \t  Prensa Chiloe  \t  11846\n",
      "soysanantonio  \t  El Mercurio S.A.P  \t  11733\n",
      "elaconcagua  \t  El Aconcagua  \t  11529\n",
      "lidersanantonio  \t  El Mercurio S.A.P  \t  11429\n",
      "el_serenense  \t  Red de Diarios Comunales Sociedad Limitada  \t  11354\n",
      "laopinon  \t  Inversiones y Publicaciones Comunidades Ciudadanas S.A.  \t  10722\n",
      "latribunacl  \t  Empresa Periodística Bío-Bío Ltda.  \t  10548\n",
      "redloslagos  \t  Merelec SpA   \t  10470\n",
      "fundacionREM  \t  Fundación Radio Estrella del Mar  \t  10244\n",
      "radioquellon   \t  Radio Quellon  \t  10113\n",
      "InetTvDigital   \t  Inet TV  \t  10038\n",
      "ITVnoticias  \t  ITV Patagonia Ltda.  \t  9624\n",
      "soycalama  \t  El Mercurio S.A.P  \t  9621\n",
      "ELCLARINDECHILE  \t  Fundación Presidente Allende  \t  9595\n",
      "DiarioPenquista  \t  Penquista  \t  9550\n",
      "Diarioenaccion   \t  Diario en Acción  \t  9547\n",
      "diarioelcoqbano  \t  Red de Diarios Comunales Sociedad Limitada  \t  9432\n",
      "soycopiapo  \t  El Mercurio S.A.P  \t  9255\n",
      "rsumen  \t  Resumen  \t  9061\n",
      "DigitalFMChile  \t  El Mercurio S.A.P.  \t  8823\n",
      "elmagallanews  \t  Grupo Mi Voz Red de Diarios Ciudadanos  \t  8136\n",
      "PutaendoInforma  \t  Putaendo Informa  \t  8031\n",
      "DiarioOvalleHoy  \t  SOCIEDAD PERIODÍSTICA BANIC Y LANCELLOTTI LTDA  \t  7834\n",
      "ddivisadero  \t  El Divisadero  \t  7757\n",
      "redatacama  \t  Merelec SpA   \t  7574\n",
      "RedlosRios  \t  Merelec SpA   \t  7546\n",
      "soyquillota  \t  El Mercurio S.A.P  \t  7377\n",
      "NorteMinero_CL  \t  El Mercurio S.A.P.  \t  7309\n",
      "elsiglochile  \t  Partido Comunista de Chile  \t  7024\n",
      "TVCONTIVISION  \t  Medios de Television Contivision Limitada  \t  6868\n",
      "EstrelladeArica  \t  El Mercurio S.A.P.  \t  6617\n",
      "radiomaxima_fm  \t  Radio Máxima  \t  6424\n",
      "diarioeltrabajo  \t  El Trabajo  \t  6108\n",
      "VozdelaCosta   \t  Obispado Osorno?  \t  6054\n",
      "elranco  \t  El Ranco  \t  5560\n",
      "AQUASocial  \t  Grupo Editorial Editec  \t  5373\n",
      "AtacamaNoticias  \t  OPEN GROUP COMUNICACIONES LTDA.  \t  5116\n",
      "VTVCanal2  \t  Sociedad de Comunicaciones Salto del Soldado Ltda  \t  5079\n",
      "verdadahoracl  \t  Verdad Ahora  \t  5048\n",
      "Elquiglobal  \t  CEPT Comunicaciones  \t  4955\n",
      "soytalcahuano  \t  El Mercurio S.A.P  \t  4933\n",
      "elqhaydecierto  \t  Grupo Mi Voz Red de Diarios Ciudadanos  \t  4898\n",
      "agenciaunochile  \t  Agencia Uno  \t  4825\n",
      "osornotvmas  \t  Ilustre municipalidad de Osorno  \t  4811\n",
      "pdteIbanez  \t  Francisco Pérez  \t  4576\n",
      "DigitalFmAntofa  \t  El Mercurio S.A.P  \t  4457\n",
      "radiopudeto  \t  Sociedad de Radio y Publicidad San Antonio Ltda.  \t  4419\n",
      "Publimetro_TV  \t  Metro International  \t  4414\n",
      "Pagina7Chile  \t  Biobio Comunicaciones  \t  4340\n",
      "soyarauco  \t  El Mercurio S.A.P  \t  4313\n",
      "dichatoaldia  \t  Dichato al Dia  \t  4158\n",
      "NatalesOnLine  \t  NOL Periodico  \t  4102\n",
      "soysancarlos  \t  El Mercurio S.A.P  \t  4040\n",
      "girovisualtv  \t  Giro visual  \t  3960\n",
      "carta_abierta  \t  Carta Abierta  \t  3905\n",
      "InforiosCL  \t  Noticias Los Rios  \t  3870\n",
      "radioptonatales  \t  Sociedad sonido sur  \t  3702\n",
      "Estrella_Toco  \t  El Mercurio S.A.P.  \t  3638\n",
      "estrella_loa  \t  El Mercurio S.A.P.  \t  3544\n",
      "soycoronel  \t  El Mercurio S.A.P  \t  3418\n",
      "verticetv  \t  Vértice Comunicaciones  \t  3328\n",
      "RedArica  \t  Merelec SpA   \t  3327\n",
      "redcomunales  \t  Red de Diarios Comunales  \t  3208\n",
      "ElChelenko  \t  El Chelenko Comunicaciones  \t  3188\n",
      "cauquenesnet  \t  Cauquenes NET  \t  3177\n",
      "soytome  \t  El Mercurio S.A.P  \t  3156\n",
      "elandacollino  \t  Red de Diarios Comunales Sociedad Limitada  \t  3115\n",
      "lavozdemaipu  \t  La Voz de Maipú  \t  2989\n",
      "elamaule  \t  Grupo Mi Voz Red de Diarios Ciudadanos  \t  2949\n",
      "cysradio  \t  Sociedad Coronado y Sierpe LTDA.  \t  2800\n",
      "elpaihuanino  \t  Red de Diarios Comunales Sociedad Limitada  \t  2698\n",
      "PrimitivosCL  \t  Rodrigo Vidal  \t  2574\n",
      "Nacimentanocl  \t  Diario Naciemiento  \t  2499\n",
      "Prensamariquina  \t  Prensa Mariquina  \t  2333\n",
      "diariosenred  \t  Merelec SpA   \t  2298\n",
      "elvicunense  \t  Red de Diarios Comunales Sociedad Limitada .  \t  2170\n",
      "DiarioPaillaco   \t  Grupo Diario Sur  \t  2167\n",
      "RReloncavi  \t  Sociedad René Salinas Palacios  \t  2119\n",
      "panguipullinoti  \t  Panguipulli Noticias  \t  2112\n",
      "la7talca  \t  La 7  \t  2044\n",
      "RadioCauquenes  \t  Radio Cauquenes  \t  1971\n",
      "Infomariquinacl  \t  InfoMariquina  \t  1937\n",
      "CCauqueninoCom  \t  El cauquenino  \t  1836\n",
      "elparadiario14  \t  Grupo Mi Voz Red de Diarios Ciudadanos  \t  1789\n",
      "puntofinal_cl  \t  Ediciones Punto Final  \t  1673\n",
      "ElAriqueno  \t  BS Comunicaciones  \t  1646\n",
      "radionahuelbuta  \t  Parroquia San José  \t  1589\n",
      "elmontepatrino  \t  Red de Diarios Comunales Sociedad Limitada  \t  1512\n",
      "el_bulnensino  \t  El bulnesino  \t  1227\n",
      "elcombarbalino  \t  Red de Diarios Comunales Sociedad Limitada  \t  1197\n",
      "el_salamanquino  \t  Red de Diarios Comunales Sociedad Limitada  \t  1189\n",
      "FMPULSO  \t  FM Pulso  \t  971\n",
      "elhurtadino  \t  Red de Diarios Comunales Sociedad Limitada  \t  895\n",
      "CoolTV_Valdivia  \t  CoolTV  \t  872\n",
      "laperladelimari  \t  Red de Diarios Comunales  \t  751\n",
      "DiarioElComunal  \t  Red de Diarios Comunales Sociedad Limitada  \t  668\n",
      "diariodeaysen  \t  EL DIARIO DE AYSEN S.A  \t  657\n",
      "elpunitaquino  \t  Red de Diarios Comunales Sociedad Limitada .  \t  560\n",
      "elvileno  \t  Red de Diarios Comunales Sociedad Limitada .  \t  553\n",
      "elcanelino  \t  Red de Diarios Comunales Sociedad Limitada  \t  545\n",
      "elillapelino  \t  Red de Diarios Comunales Sociedad Limitada  \t  315\n"
     ]
    }
   ],
   "source": [
    "#!/usr/bin/env python\n",
    "# -*- coding: utf-8 -*-\n",
    "import csv\n",
    "\n",
    "with open('medios.csv') as csvarchivo:\n",
    "    entrada = csv.DictReader(csvarchivo)\n",
    "    for elementos in entrada:\n",
    "        print(elementos['CódigoMedio'], \" \\t \" ,elementos['PropiedadLegal'], \" \\t \",elementos['FollowersFinAño'])"
   ]
  },
  {
   "cell_type": "markdown",
   "metadata": {},
   "source": [
    "## 3.2 Leer los archivos textos y insertar los datos"
   ]
  },
  {
   "cell_type": "code",
   "execution_count": 8,
   "metadata": {},
   "outputs": [
    {
     "ename": "IntegrityError",
     "evalue": "1062 (23000): Duplicate entry '24HorasTVN' for key 'PRIMARY'",
     "output_type": "error",
     "traceback": [
      "\u001b[0;31m---------------------------------------------------------------------------\u001b[0m",
      "\u001b[0;31mIntegrityError\u001b[0m                            Traceback (most recent call last)",
      "\u001b[0;32m<ipython-input-8-5e10c753f5d6>\u001b[0m in \u001b[0;36m<module>\u001b[0;34m()\u001b[0m\n\u001b[1;32m      8\u001b[0m         \u001b[0mduenho\u001b[0m\u001b[0;34m=\u001b[0m\u001b[0mreg\u001b[0m\u001b[0;34m[\u001b[0m\u001b[0;34m'PropiedadLegal'\u001b[0m\u001b[0;34m]\u001b[0m\u001b[0;34m\u001b[0m\u001b[0m\n\u001b[1;32m      9\u001b[0m         \u001b[0mnum_followers\u001b[0m\u001b[0;34m=\u001b[0m\u001b[0mreg\u001b[0m\u001b[0;34m[\u001b[0m\u001b[0;34m'FollowersFinAño'\u001b[0m\u001b[0;34m]\u001b[0m\u001b[0;34m\u001b[0m\u001b[0m\n\u001b[0;32m---> 10\u001b[0;31m         \u001b[0mcursor\u001b[0m\u001b[0;34m.\u001b[0m\u001b[0mexecute\u001b[0m\u001b[0;34m(\u001b[0m\u001b[0;34m\"INSERT INTO medios_de_prensas (name, duenho, num_followers) VALUES (%s, %s, %s)\"\u001b[0m\u001b[0;34m,\u001b[0m\u001b[0;34m(\u001b[0m\u001b[0mname\u001b[0m\u001b[0;34m,\u001b[0m\u001b[0mduenho\u001b[0m\u001b[0;34m,\u001b[0m\u001b[0mnum_followers\u001b[0m\u001b[0;34m)\u001b[0m\u001b[0;34m)\u001b[0m\u001b[0;34m\u001b[0m\u001b[0m\n\u001b[0m\u001b[1;32m     11\u001b[0m     \u001b[0mconexion\u001b[0m\u001b[0;34m.\u001b[0m\u001b[0mcommit\u001b[0m\u001b[0;34m(\u001b[0m\u001b[0;34m)\u001b[0m\u001b[0;34m\u001b[0m\u001b[0m\n\u001b[1;32m     12\u001b[0m \u001b[0;34m\u001b[0m\u001b[0m\n",
      "\u001b[0;32m/usr/local/lib/python3.5/dist-packages/mysql/connector/cursor.py\u001b[0m in \u001b[0;36mexecute\u001b[0;34m(self, operation, params, multi)\u001b[0m\n\u001b[1;32m    549\u001b[0m         \u001b[0;32melse\u001b[0m\u001b[0;34m:\u001b[0m\u001b[0;34m\u001b[0m\u001b[0m\n\u001b[1;32m    550\u001b[0m             \u001b[0;32mtry\u001b[0m\u001b[0;34m:\u001b[0m\u001b[0;34m\u001b[0m\u001b[0m\n\u001b[0;32m--> 551\u001b[0;31m                 \u001b[0mself\u001b[0m\u001b[0;34m.\u001b[0m\u001b[0m_handle_result\u001b[0m\u001b[0;34m(\u001b[0m\u001b[0mself\u001b[0m\u001b[0;34m.\u001b[0m\u001b[0m_connection\u001b[0m\u001b[0;34m.\u001b[0m\u001b[0mcmd_query\u001b[0m\u001b[0;34m(\u001b[0m\u001b[0mstmt\u001b[0m\u001b[0;34m)\u001b[0m\u001b[0;34m)\u001b[0m\u001b[0;34m\u001b[0m\u001b[0m\n\u001b[0m\u001b[1;32m    552\u001b[0m             \u001b[0;32mexcept\u001b[0m \u001b[0merrors\u001b[0m\u001b[0;34m.\u001b[0m\u001b[0mInterfaceError\u001b[0m\u001b[0;34m:\u001b[0m\u001b[0;34m\u001b[0m\u001b[0m\n\u001b[1;32m    553\u001b[0m                 \u001b[0;32mif\u001b[0m \u001b[0mself\u001b[0m\u001b[0;34m.\u001b[0m\u001b[0m_connection\u001b[0m\u001b[0;34m.\u001b[0m\u001b[0m_have_next_result\u001b[0m\u001b[0;34m:\u001b[0m  \u001b[0;31m# pylint: disable=W0212\u001b[0m\u001b[0;34m\u001b[0m\u001b[0m\n",
      "\u001b[0;32m/usr/local/lib/python3.5/dist-packages/mysql/connector/connection.py\u001b[0m in \u001b[0;36mcmd_query\u001b[0;34m(self, query, raw, buffered, raw_as_string)\u001b[0m\n\u001b[1;32m    488\u001b[0m         \u001b[0;32mif\u001b[0m \u001b[0;32mnot\u001b[0m \u001b[0misinstance\u001b[0m\u001b[0;34m(\u001b[0m\u001b[0mquery\u001b[0m\u001b[0;34m,\u001b[0m \u001b[0mbytes\u001b[0m\u001b[0;34m)\u001b[0m\u001b[0;34m:\u001b[0m\u001b[0;34m\u001b[0m\u001b[0m\n\u001b[1;32m    489\u001b[0m             \u001b[0mquery\u001b[0m \u001b[0;34m=\u001b[0m \u001b[0mquery\u001b[0m\u001b[0;34m.\u001b[0m\u001b[0mencode\u001b[0m\u001b[0;34m(\u001b[0m\u001b[0;34m'utf-8'\u001b[0m\u001b[0;34m)\u001b[0m\u001b[0;34m\u001b[0m\u001b[0m\n\u001b[0;32m--> 490\u001b[0;31m         \u001b[0mresult\u001b[0m \u001b[0;34m=\u001b[0m \u001b[0mself\u001b[0m\u001b[0;34m.\u001b[0m\u001b[0m_handle_result\u001b[0m\u001b[0;34m(\u001b[0m\u001b[0mself\u001b[0m\u001b[0;34m.\u001b[0m\u001b[0m_send_cmd\u001b[0m\u001b[0;34m(\u001b[0m\u001b[0mServerCmd\u001b[0m\u001b[0;34m.\u001b[0m\u001b[0mQUERY\u001b[0m\u001b[0;34m,\u001b[0m \u001b[0mquery\u001b[0m\u001b[0;34m)\u001b[0m\u001b[0;34m)\u001b[0m\u001b[0;34m\u001b[0m\u001b[0m\n\u001b[0m\u001b[1;32m    491\u001b[0m \u001b[0;34m\u001b[0m\u001b[0m\n\u001b[1;32m    492\u001b[0m         \u001b[0;32mif\u001b[0m \u001b[0mself\u001b[0m\u001b[0;34m.\u001b[0m\u001b[0m_have_next_result\u001b[0m\u001b[0;34m:\u001b[0m\u001b[0;34m\u001b[0m\u001b[0m\n",
      "\u001b[0;32m/usr/local/lib/python3.5/dist-packages/mysql/connector/connection.py\u001b[0m in \u001b[0;36m_handle_result\u001b[0;34m(self, packet)\u001b[0m\n\u001b[1;32m    393\u001b[0m             \u001b[0;32mreturn\u001b[0m \u001b[0mself\u001b[0m\u001b[0;34m.\u001b[0m\u001b[0m_handle_eof\u001b[0m\u001b[0;34m(\u001b[0m\u001b[0mpacket\u001b[0m\u001b[0;34m)\u001b[0m\u001b[0;34m\u001b[0m\u001b[0m\n\u001b[1;32m    394\u001b[0m         \u001b[0;32melif\u001b[0m \u001b[0mpacket\u001b[0m\u001b[0;34m[\u001b[0m\u001b[0;36m4\u001b[0m\u001b[0;34m]\u001b[0m \u001b[0;34m==\u001b[0m \u001b[0;36m255\u001b[0m\u001b[0;34m:\u001b[0m\u001b[0;34m\u001b[0m\u001b[0m\n\u001b[0;32m--> 395\u001b[0;31m             \u001b[0;32mraise\u001b[0m \u001b[0merrors\u001b[0m\u001b[0;34m.\u001b[0m\u001b[0mget_exception\u001b[0m\u001b[0;34m(\u001b[0m\u001b[0mpacket\u001b[0m\u001b[0;34m)\u001b[0m\u001b[0;34m\u001b[0m\u001b[0m\n\u001b[0m\u001b[1;32m    396\u001b[0m \u001b[0;34m\u001b[0m\u001b[0m\n\u001b[1;32m    397\u001b[0m         \u001b[0;31m# We have a text result set\u001b[0m\u001b[0;34m\u001b[0m\u001b[0;34m\u001b[0m\u001b[0m\n",
      "\u001b[0;31mIntegrityError\u001b[0m: 1062 (23000): Duplicate entry '24HorasTVN' for key 'PRIMARY'"
     ]
    }
   ],
   "source": [
    "#!/usr/bin/env python\n",
    "# -*- coding: utf-8 -*-\n",
    "\n",
    "with open('medios.csv') as csvarchivo:\n",
    "    entrada = csv.DictReader(csvarchivo)\n",
    "    for reg in entrada:\n",
    "        name=reg['CódigoMedio']\n",
    "        duenho=reg['PropiedadLegal']\n",
    "        num_followers=reg['FollowersFinAño']\n",
    "        cursor.execute(\"INSERT INTO medios_de_prensas (name, duenho, num_followers) VALUES (%s, %s, %s)\",(name,duenho,num_followers))\n",
    "    conexion.commit()\n",
    "\n",
    "archivo = open(\"noticias.txt\")\n",
    "\n",
    "datos = []\n",
    "for linea in archivo.readlines(): \n",
    "    datos.append(linea) \n",
    "for i in range (0,int((len(datos)/5))):\n",
    "    fecha = datos[5*i]\n",
    "    ref_prensa = datos[5*i+1]\n",
    "    titulo = datos [5*i+2]\n",
    "    text = datos [5*i+3]\n",
    "    cursor.execute(\"INSERT INTO noticias (titulo, date, ref_prensa, text) VALUES (%s, %s, %s, %s)\",(titulo, fecha, ref_prensa, text))\n",
    "conexion.commit()\n",
    "archivo.close() \n",
    "\n",
    "\n"
   ]
  },
  {
   "cell_type": "markdown",
   "metadata": {},
   "source": [
    "# 4. Consultar la base de datos"
   ]
  },
  {
   "cell_type": "markdown",
   "metadata": {},
   "source": [
    "Listar los medios de prensa en Chile ordenado según su número de followers en Twitter."
   ]
  },
  {
   "cell_type": "code",
   "execution_count": null,
   "metadata": {},
   "outputs": [],
   "source": [
    "\n",
    "consulta = (\"SELECT name, num_followers FROM medios_de_prensas ORDER BY num_followers DESC\")\n",
    "cursor.execute(consulta)\n",
    "\n",
    "for (dato) in cursor:\n",
    "  print(dato)\n"
   ]
  },
  {
   "cell_type": "raw",
   "metadata": {},
   "source": [
    "Contar los dueños de medios de prensa en Chile."
   ]
  },
  {
   "cell_type": "code",
   "execution_count": null,
   "metadata": {},
   "outputs": [],
   "source": [
    "consulta = (\"SELECT COUNT(*) FROM (SELECT COUNT(duenho)FROM medios_de_prensas GROUP BY duenho) AS numerito\")\n",
    "cursor.execute(consulta)\n",
    "\n",
    "for (nombre) in cursor:\n",
    "  print(nombre)"
   ]
  },
  {
   "cell_type": "markdown",
   "metadata": {},
   "source": [
    "Contar cuantes medios de prensa posee cada dueño."
   ]
  },
  {
   "cell_type": "code",
   "execution_count": null,
   "metadata": {},
   "outputs": [],
   "source": [
    "consulta = (\"SELECT COUNT(name) AS valorcito, duenho FROM medios_de_prensas GROUP BY duenho\")\n",
    "cursor.execute(consulta)\n",
    "\n",
    "for (nombre) in cursor:\n",
    "  print(nombre)"
   ]
  },
  {
   "cell_type": "markdown",
   "metadata": {},
   "source": [
    "Mostrar los últimos 10 títulos de noticias del medio \"La Tercera\""
   ]
  },
  {
   "cell_type": "code",
   "execution_count": null,
   "metadata": {},
   "outputs": [],
   "source": [
    "consulta = (\"SELECT titulo FROM noticia WHERE ref_de_prensa LIKE'La Tercera' LIMIT 10 \")\n",
    "cursor.execute(consulta)\n",
    "\n",
    "for (nombre) in cursor:\n",
    "  print(nombre)"
   ]
  },
  {
   "cell_type": "markdown",
   "metadata": {},
   "source": [
    "Mostrar los nombre de medios y los títulos en los cuales aparacen la palabra \"Valdivia\"."
   ]
  },
  {
   "cell_type": "code",
   "execution_count": null,
   "metadata": {},
   "outputs": [],
   "source": [
    "consulta = (\"SELECT titulo, ref_de_prensa FROM noticia WHERE titulo LIKE '%Valdivia%' OR texto LIKE '%Valdivia%'\")\n",
    "cursor.execute(consulta)\n",
    "\n",
    "for (nombre) in cursor:\n",
    "  print(nombre)\n"
   ]
  },
  {
   "cell_type": "markdown",
   "metadata": {},
   "source": [
    "Por cada medio, mostrar el número de títulos en los cuales aparecen la palabra \"Puerto Montt\"."
   ]
  },
  {
   "cell_type": "code",
   "execution_count": null,
   "metadata": {},
   "outputs": [],
   "source": [
    "consulta = (\"SELECT ref_de_prensa, COUNT(titulo) FROM noticia WHERE titulo LIKE '%Puerto Montt%' GROUP BY ref_de_prensa\")\n",
    "cursor.execute(consulta)\n",
    "\n",
    "for (nombre) in cursor:\n",
    "  print(nombre)"
   ]
  },
  {
   "cell_type": "code",
   "execution_count": null,
   "metadata": {},
   "outputs": [],
   "source": []
  }
 ],
 "metadata": {
  "kernelspec": {
   "display_name": "Python 3",
   "language": "python",
   "name": "python3"
  },
  "language_info": {
   "codemirror_mode": {
    "name": "ipython",
    "version": 3
   },
   "file_extension": ".py",
   "mimetype": "text/x-python",
   "name": "python",
   "nbconvert_exporter": "python",
   "pygments_lexer": "ipython3",
   "version": "3.5.2"
  }
 },
 "nbformat": 4,
 "nbformat_minor": 2
}
