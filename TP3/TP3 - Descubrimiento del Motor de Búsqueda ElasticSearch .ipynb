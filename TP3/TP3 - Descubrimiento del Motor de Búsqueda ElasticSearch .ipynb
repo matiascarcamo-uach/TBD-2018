{
 "cells": [
  {
   "cell_type": "markdown",
   "metadata": {},
   "source": [
    "# TP3- Descubrimiento del Motor de Búsqueda ElasticSearch"
   ]
  },
  {
   "cell_type": "markdown",
   "metadata": {},
   "source": [
    "## 1) Preguntas:\n",
    "\n",
    "1.1 ¿ElasticSearch es un SGBD de nueva generación? Qué es un motor de búsqueda?\n",
    "    Si es un SGBD de nueva generacion que fue creado hace 4 años\n",
    "    Es un motor de busqueda (en informatica) que busca archivos almacenados en servidores web\n",
    "\n",
    "1.2 ¿Cuáles son sus principales caracteristicas? ¿Qué modelo lógico de datos utiliza?\n",
    "    Una de sus principales caracteristicas es que almacena documentos en formato JSON y es una base de dato no relacional y orientado a documentos.\n",
    "   \n",
    "\n",
    "1.3 ¿Cuáles son los puntos similares y las diferencias con el SGBD Mongo?\n",
    "    Las similitudes son que las dos son bases de datos no relacionales y ocupan datos en formato JSON\n",
    "    Como diferencia es que elasticSearch es un motor de busqueda, lo cual esta orientado a buscar datos en archivos.\n",
    "    \n",
    "1.4 ¿Cuál es la fecha de su primera versión? ¿Cuál es la frecuencia de aparación de nuevas versiones?\n",
    "    Su primera version fue el 08-02-2010 como la version 0.4 y todos los meses aparecen nuevas versiones\n",
    "\n",
    "1.5 ¿Cuál es su licencia? Cuáles son las principales caracteristicas de esta licencia?\n",
    "    Apache License 2.0, es una licencia de software libre, es decir, se puede ocupar y modificar el software sin preocupaciones.\n",
    "\n",
    "1.6 ¿Qué empresas o productos utilizan ElasticSearch? Cuáles son los casos de uso habituales?\n",
    "    ebay, Facebook, netflix. Un uso tipico en Netflix es cuando el usuario busca una palabra clave y este motor busca en titulos, resumenes, etc.\n",
    "\n",
    "1.7 ¿Cuáles son los otros productos desarrollados en la organización Elastic?\n",
    "    Kibana, x-pack, logstash, beats\n",
    "    \n",
    "<b>Enlaces utiles</b>:\n",
    "\n",
    "https://www.elastic.co/products/elasticsearch\n",
    "\n",
    "https://en.wikipedia.org/wiki/Elasticsearch\n",
    "\n",
    "https://db-engines.com/en/ranking"
   ]
  },
  {
   "cell_type": "markdown",
   "metadata": {},
   "source": [
    "## 2) Instalar ElasticSearch\n",
    "\n",
    "2.1 Descargar e instalar ElasticSearch 6.2 (https://www.elastic.co/downloads/elasticsearch)\n",
    "\n",
    "2.2 Ejecutar ElasticSearch (bin/elasticsearch) con la configuración por defecto\n",
    "\n",
    "2.3 En un terminal, ejecutar el comando siguiente:\n",
    "\n",
    "curl -X GET \"http://localhost:9200/_cat/health?v\"\n",
    "\n",
    "De qué sirve el software CURL?\n",
    "    CURL es un interprete de comandos orientado a la transferencia de archivos, en nuestro caso lo utilizamos para enviar consultas de archivos JSON a ElasticSearch\n",
    "\n",
    "Cuantos nodos y shards tiene su instalación de ElasticSearch? Cómo se llama su cluster?\n",
    "    1 nodo y 1 shard\n",
    "    cluster.name: my-application <- nombre del cluster\n",
    "    node.name: node-1\n",
    "    index.number_of_shards: 1\n",
    "\n",
    "<b>Enlaces utiles:</b>\n",
    "\n",
    "https://www.elastic.co/guide/en/elasticsearch/reference/current/_cluster_health.html"
   ]
  },
  {
   "cell_type": "markdown",
   "metadata": {},
   "source": [
    "## 3) Operaciones CRUD básicas"
   ]
  },
  {
   "cell_type": "markdown",
   "metadata": {},
   "source": [
    "3.1 Listar los indices disponibles en el cluster\n",
    "    Listar Indices (para efectos prácticos se mostrarán todas las consultas en formato CURL): curl -X GET \"localhost:9200/_cat/indices?v\"\n",
    "\n",
    "Mostrar indices: curl -X GET \"localhost:9200/_cat/indices?v\"\n",
    "\n",
    "Insertar datos(en formato JSON solo agregaremos el nombre al indice customer): PUT /customer/_doc/1?pretty { \"name\": \"John Doe\" }\n",
    "\n",
    "Crear indice: curl -X PUT \"localhost:9200/customer?pretty\"\n",
    "\n",
    "Eliminar un indice: DELETE /customer?pretty GET /_cat/indices?v\n",
    "\n",
    "3.2 Seguir el \"Getting Started\" de la documentación de ElasticSearch a partir de la sección siguiente: https://www.elastic.co/guide/en/elasticsearch/reference/current/_list_all_indices.html"
   ]
  },
  {
   "cell_type": "markdown",
   "metadata": {},
   "source": [
    "## 4) Ejemplo de Aplicación en Python utilizando ElasticSearch\n",
    "Para ayudar la comunidad científica de la UACh, proponemos desarrollar un motor de búsqueda de los artículos científicos escritos por la comunidad UACh.\n",
    "\n",
    "4.1 Buscar en Internet (por ejemplo en el sitio \"Web Of Science\": http://apps.webofknowledge.com) algunos articulos científicos escritos por académicos de la UACh y copiar cada resumen de artículo en un archivo texto. "
   ]
  },
  {
   "cell_type": "code",
   "execution_count": 8,
   "metadata": {},
   "outputs": [],
   "source": [
    "from datetime import datetime\n",
    "from elasticsearch import Elasticsearch\n",
    "es = Elasticsearch()"
   ]
  },
  {
   "cell_type": "markdown",
   "metadata": {},
   "source": [
    "4.2 Desde Python, conectarse a su cluster ElasticSearch y crear un indice \"articulo-uach\""
   ]
  },
  {
   "cell_type": "markdown",
   "metadata": {},
   "source": [
    "4.3 Indexar los archivos textos recopilados con algunos metadatos adicionales"
   ]
  },
  {
   "cell_type": "markdown",
   "metadata": {
    "collapsed": true
   },
   "source": [
    "4.4 Consultas"
   ]
  }
 ],
 "metadata": {
  "celltoolbar": "Raw Cell Format",
  "kernelspec": {
   "display_name": "Python 3",
   "language": "python",
   "name": "python3"
  },
  "language_info": {
   "codemirror_mode": {
    "name": "ipython",
    "version": 3
   },
   "file_extension": ".py",
   "mimetype": "text/x-python",
   "name": "python",
   "nbconvert_exporter": "python",
   "pygments_lexer": "ipython3",
   "version": "3.6.5"
  }
 },
 "nbformat": 4,
 "nbformat_minor": 2
}
